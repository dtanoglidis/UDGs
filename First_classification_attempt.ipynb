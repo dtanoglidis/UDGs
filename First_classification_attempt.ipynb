{
 "cells": [
  {
   "cell_type": "markdown",
   "metadata": {},
   "source": [
    "## First classification attempt using the around fornax sample as training set\n",
    "\n",
    "I choose a region $2^o \\times 2^o$, apply some cuts and find LSB / UDG candidates.\n",
    "\n",
    "The region I select is:\n",
    "\\begin{equation}\n",
    "53.61625 \\leq \\mbox{RA} \\leq 55.61625\\\\\n",
    "-36.44833 \\leq \\mbox{DEC} \\leq -34.44833 \n",
    "\\end{equation}\n",
    " \n",
    "I have found the UDGs etc"
   ]
  },
  {
   "cell_type": "code",
   "execution_count": 124,
   "metadata": {
    "collapsed": false
   },
   "outputs": [
    {
     "name": "stdout",
     "output_type": "stream",
     "text": [
      "Populating the interactive namespace from numpy and matplotlib\n"
     ]
    }
   ],
   "source": [
    "# Import stuff\n",
    "import numpy as np\n",
    "import scipy\n",
    "import matplotlib\n",
    "import matplotlib.pyplot as plt\n",
    "from astropy.io import fits\n",
    "import skymapper as skm\n",
    "from code.plot_utils import plot_pretty\n",
    "from astropy import units as u\n",
    "from astropy.coordinates import SkyCoord\n",
    "from matplotlib import rcParams\n",
    "rcParams['font.family'] = 'serif'\n",
    "\n",
    "%matplotlib inline\n",
    "%pylab inline \n",
    "plot_pretty() "
   ]
  },
  {
   "cell_type": "code",
   "execution_count": 125,
   "metadata": {
    "collapsed": false
   },
   "outputs": [
    {
     "name": "stdout",
     "output_type": "stream",
     "text": [
      "<bound method Header.keys of XTENSION= 'BINTABLE'           / binary table extension                         \n",
      "BITPIX  =                    8 / array data type                                \n",
      "NAXIS   =                    2 / number of array dimensions                     \n",
      "NAXIS1  =                  104 / length of dimension 1                          \n",
      "NAXIS2  =               178944 / length of dimension 2                          \n",
      "PCOUNT  =                    0 / number of group parameters                     \n",
      "GCOUNT  =                    1 / number of groups                               \n",
      "TFIELDS =                   24 / number of table fields                         \n",
      "TTYPE1  = 'ra      '                                                            \n",
      "TFORM1  = 'D       '                                                            \n",
      "TTYPE2  = 'dec     '                                                            \n",
      "TFORM2  = 'D       '                                                            \n",
      "TTYPE3  = 'a_image '                                                            \n",
      "TFORM3  = 'E       '                                                            \n",
      "TTYPE4  = 'b_image '                                                            \n",
      "TFORM4  = 'E       '                                                            \n",
      "TTYPE5  = 'flux_radius_g'                                                       \n",
      "TFORM5  = 'E       '                                                            \n",
      "TTYPE6  = 'flux_radius_r'                                                       \n",
      "TFORM6  = 'E       '                                                            \n",
      "TTYPE7  = 'flux_radius_i'                                                       \n",
      "TFORM7  = 'E       '                                                            \n",
      "TTYPE8  = 'mag_auto_g'                                                          \n",
      "TFORM8  = 'E       '                                                            \n",
      "TTYPE9  = 'mag_auto_r'                                                          \n",
      "TFORM9  = 'E       '                                                            \n",
      "TTYPE10 = 'mag_auto_i'                                                          \n",
      "TFORM10 = 'E       '                                                            \n",
      "TTYPE11 = 'spread_model_i'                                                      \n",
      "TFORM11 = 'E       '                                                            \n",
      "TTYPE12 = 'spreaderr_model_i'                                                   \n",
      "TFORM12 = 'E       '                                                            \n",
      "TTYPE13 = 'mu_max_g'                                                            \n",
      "TFORM13 = 'E       '                                                            \n",
      "TTYPE14 = 'mu_max_model_g'                                                      \n",
      "TFORM14 = 'E       '                                                            \n",
      "TTYPE15 = 'mu_mean_model_g'                                                     \n",
      "TFORM15 = 'E       '                                                            \n",
      "TTYPE16 = 'mu_eff_model_g'                                                      \n",
      "TFORM16 = 'E       '                                                            \n",
      "TTYPE17 = 'mu_eff_model_r'                                                      \n",
      "TFORM17 = 'E       '                                                            \n",
      "TTYPE18 = 'mu_max_r'                                                            \n",
      "TFORM18 = 'E       '                                                            \n",
      "TTYPE19 = 'mu_max_model_r'                                                      \n",
      "TFORM19 = 'E       '                                                            \n",
      "TTYPE20 = 'mu_mean_model_r'                                                     \n",
      "TFORM20 = 'E       '                                                            \n",
      "TTYPE21 = 'mu_max_i'                                                            \n",
      "TFORM21 = 'E       '                                                            \n",
      "TTYPE22 = 'mu_eff_model_i'                                                      \n",
      "TFORM22 = 'E       '                                                            \n",
      "TTYPE23 = 'mu_max_model_i'                                                      \n",
      "TFORM23 = 'E       '                                                            \n",
      "TTYPE24 = 'mu_mean_model_i'                                                     \n",
      "TFORM24 = 'E       '                                                            \n",
      "COMMENT This catalog has been produced on behalf of Dimitrios Tanoglidis (dtanog\n",
      "COMMENT lidis@uchicago.edu) with ID #4174.                                      \n",
      "COMMENT It took 0:03:05 (h:mm:ss) to complete and the SQL issued was:           \n",
      "COMMENT                                                                         \n",
      "COMMENT SELECT `ra`, `dec`, `a_image`, `b_image`, `flux_radius_g`, `flux_radius_\n",
      "COMMENT r`, `flux_radius_i`, `mag_auto_g`, `mag_auto_r`, `mag_auto_i`, `spread_m\n",
      "COMMENT odel_i`, `spreaderr_model_i`, `mu_max_g`, `mu_max_model_g`, `mu_mean_mod\n",
      "COMMENT el_g`, `mu_eff_model_g`, `mu_eff_model_r`, `mu_max_r`, `mu_max_model_r`,\n",
      "COMMENT  `mu_mean_model_r`, `mu_max_i`, `mu_eff_model_i`, `mu_max_model_i`, `mu_\n",
      "COMMENT mean_model_i`                                                           \n",
      "COMMENT FROM des_y3_gold_v2_2_c                                                 \n",
      "COMMENT WHERE `flags_badregions` = 0 AND `flags_gold` = 0 AND `ra` &gt; 53.61625\n",
      "COMMENT  AND `ra` &lt; 55.61625 AND `dec` &gt; -36.44833 AND `dec` &lt; -34.4483\n",
      "COMMENT 3                                                                       \n",
      "COMMENT                                                                         \n",
      "COMMENT Please, remember to follow the citation guide if you use any of this dat\n",
      "COMMENT a in your work.                                                         \n",
      "COMMENT                                                                         \n",
      "COMMENT Generated by CosmoHub (https://cosmohub.pic.es) on 2018-12-29 04:45:47.6\n",
      "COMMENT 75000 UTC.                                                              >\n"
     ]
    }
   ],
   "source": [
    "REG_3 = fits.open('Region_3.fits')\n",
    "print REG_3[1].header.keys"
   ]
  },
  {
   "cell_type": "code",
   "execution_count": 126,
   "metadata": {
    "collapsed": false
   },
   "outputs": [
    {
     "name": "stdout",
     "output_type": "stream",
     "text": [
      "178944\n"
     ]
    }
   ],
   "source": [
    "# Import everything \n",
    "# ========================================================\n",
    "# ========================================================\n",
    "# spread_model_i and its error\n",
    "spread_model_i = REG_3[1].data['spread_model_i']\n",
    "speraderr_model_i = REG_3[1].data['spreaderr_model_i']\n",
    "\n",
    "# RA and DEC \n",
    "RA = REG_3[1].data['ra']\n",
    "DEC = REG_3[1].data['dec']\n",
    "\n",
    "# Image A/ Image B\n",
    "IMAGE_A = REG_3[1].data['a_image']\n",
    "IMAGE_B = REG_3[1].data['b_image']\n",
    "\n",
    "# Magnitudes \n",
    "MAG_AUTO_G = REG_3[1].data['mag_auto_g']\n",
    "MAG_AUTO_R = REG_3[1].data['mag_auto_r']\n",
    "MAG_AUTO_I = REG_3[1].data['mag_auto_i']\n",
    "\n",
    "# Flux radii - convert from pixels to arcseconds\n",
    "FLUX_RADIUS_G = 0.263*REG_3[1].data['flux_radius_g']\n",
    "FLUX_RADIUS_R = 0.263*REG_3[1].data['flux_radius_r']\n",
    "FLUX_RADIUS_I = 0.263*REG_3[1].data['flux_radius_i'] \n",
    "\n",
    "# ================================================================================\n",
    "# ================================================================================\n",
    "# SURFACE BRIGHTNESSES\n",
    "\n",
    "##Effective model surface brightness (SB) above background [mag/sq. arcmin]. \n",
    "#SB at the isophote which includes half of the flux from the model, above background\n",
    "MU_EFF_G = REG_3[1].data['mu_eff_model_g']\n",
    "MU_EFF_R = REG_3[1].data['mu_eff_model_r']\n",
    "MU_EFF_I = REG_3[1].data['mu_eff_model_i']\n",
    "\n",
    "#Peak surface brightness above background [mag/asec^2]\n",
    "MU_MAX_G = REG_3[1].data['mu_max_g']\n",
    "MU_MAX_R = REG_3[1].data['mu_max_r']\n",
    "MU_MAX_I = REG_3[1].data['mu_max_i']\n",
    "\n",
    "#Peak surface brightness above background  - using Model[mag/asec^2]\n",
    "MU_MAX_MODEL_G = REG_3[1].data['mu_max_model_g']\n",
    "MU_MAX_MODEL_R = REG_3[1].data['mu_max_model_r']\n",
    "MU_MAX_MODEL_I = REG_3[1].data['mu_max_model_i']\n",
    "\n",
    "#Mean surface brightness using the whole area inside the isophote used for MU_EFF_MODEL\n",
    "MU_MEAN_G = REG_3[1].data['mu_mean_model_g']\n",
    "MU_MEAN_R = REG_3[1].data['mu_mean_model_r']\n",
    "MU_MEAN_I = REG_3[1].data['mu_mean_model_i']\n",
    "\n",
    "\n",
    "# Define ellipticity \n",
    "ellipticity = 1.0 - IMAGE_B/IMAGE_A\n",
    "\n",
    "print(len(RA))"
   ]
  },
  {
   "cell_type": "markdown",
   "metadata": {},
   "source": [
    "### Perform cuts\n",
    "\n",
    "I perform the following cuts in my data:\n",
    "\n",
    "- Star-galaxy separation:\n",
    "\\begin{equation}\n",
    "spread\\_model\\_i + (5/3)spreaderr\\_model\\_i > 0.007\n",
    "\\end{equation}\n",
    "\n",
    "\n",
    "- Surface brightness cut:\n",
    "\\begin{equation} \n",
    "\\bar{\\mu}_{eff}(g) > 24.3 \\,\\, \\mbox{mag}\\,\\mbox{arcsec}^{-2}\n",
    "\\end{equation}\n",
    "\n",
    "- Color cuts:\n",
    "\n",
    "\\begin{equation}\n",
    "- 0.1 < (g-i) < 1.4 \\\\\n",
    "(g - r )>0.7\\cdot(g-i) - 0.4 \\\\\n",
    "(g - r) < 0.7 \\cdot (g-i) + 0.4\n",
    "\\end{equation}\n",
    "\n",
    "- Radius cut:\n",
    "\n",
    "\\begin{equation}\n",
    "2''.5 < r_{1/2} < 20'',\n",
    "\\end{equation}\n",
    "\n",
    "where: $\\mbox{FLUX_RADIUS_I} \\equiv r_{1/2}$.\n",
    "\n",
    "- Ellipticity cut:\n",
    "\n",
    "\\begin{equation}\n",
    "\\epsilon = 1 - \\frac{b}{a} < 0.6\n",
    "\\end{equation}\n",
    "\n",
    "#### Define the cuts now"
   ]
  },
  {
   "cell_type": "code",
   "execution_count": 127,
   "metadata": {
    "collapsed": true
   },
   "outputs": [],
   "source": [
    "# Define the cuts here \n",
    "# ====================================================\n",
    "\n",
    "# Star-galaxy separation \n",
    "star_gal_cut = ((spread_model_i+(5.0/3.0)*speraderr_model_i)>0.007)\n",
    "\n",
    "# Surface brightness cut\n",
    "mu_eff_cut = (MU_EFF_G > 24.3)\n",
    "\n",
    "# Color cuts \n",
    "col_1 = ((MAG_AUTO_G - MAG_AUTO_I)>(-0.1))\n",
    "col_2 = ((MAG_AUTO_G - MAG_AUTO_I)<(1.4))\n",
    "col_3 = ((MAG_AUTO_G - MAG_AUTO_R) > 0.7*(MAG_AUTO_G - MAG_AUTO_I) - 0.4)\n",
    "col_4 = ((MAG_AUTO_G - MAG_AUTO_R) < 0.7*(MAG_AUTO_G - MAG_AUTO_I) + 0.4)\n",
    "color_cuts = col_1&col_2&col_3&col_4\n",
    "\n",
    "# Radius cut\n",
    "radius_cut = ((FLUX_RADIUS_I > 2.5)&(FLUX_RADIUS_I < 20.0))\n",
    "\n",
    "# Ellipticity cut\n",
    "ell_cut = (ellipticity < 0.6)\n",
    "\n",
    "# Summarize the final cut\n",
    "\n",
    "Total_cut = star_gal_cut&mu_eff_cut&color_cuts&radius_cut&ell_cut"
   ]
  },
  {
   "cell_type": "markdown",
   "metadata": {},
   "source": [
    "#### Apply the cuts now"
   ]
  },
  {
   "cell_type": "code",
   "execution_count": 128,
   "metadata": {
    "collapsed": false
   },
   "outputs": [
    {
     "name": "stdout",
     "output_type": "stream",
     "text": [
      "321\n"
     ]
    }
   ],
   "source": [
    "\n",
    "\n",
    "# RA and DEC\n",
    "RA = RA[Total_cut]\n",
    "DEC = DEC[Total_cut]\n",
    "\n",
    "# Image A/ Image B\n",
    "IMAGE_A = IMAGE_A[Total_cut]\n",
    "IMAGE_B = IMAGE_B[Total_cut]\n",
    "\n",
    "#Magnitudes \n",
    "MAG_AUTO_G = MAG_AUTO_G[Total_cut]\n",
    "MAG_AUTO_R = MAG_AUTO_R[Total_cut]\n",
    "MAG_AUTO_I = MAG_AUTO_I[Total_cut]\n",
    "\n",
    "#Flux radii \n",
    "FLUX_RADIUS_G = FLUX_RADIUS_G[Total_cut]\n",
    "FLUX_RADIUS_R = FLUX_RADIUS_R[Total_cut]\n",
    "FLUX_RADIUS_I = FLUX_RADIUS_I[Total_cut]\n",
    "\n",
    "# ================================================================================\n",
    "# ================================================================================\n",
    "# SURFACE BRIGHTNESSES\n",
    "\n",
    "##Effective model surface brightness (SB) above background [mag/sq. arcmin]. \n",
    "#SB at the isophote which includes half of the flux from the model, above background\n",
    "MU_EFF_G = MU_EFF_G[Total_cut]\n",
    "MU_EFF_R = MU_EFF_R[Total_cut]\n",
    "MU_EFF_I = MU_EFF_I[Total_cut]\n",
    "\n",
    "#Peak surface brightness above background [mag/asec^2]\n",
    "MU_MAX_G = MU_MAX_G[Total_cut]\n",
    "MU_MAX_R = MU_MAX_R[Total_cut]\n",
    "MU_MAX_I = MU_MAX_I[Total_cut]\n",
    "\n",
    "#Peak surface brightness above background  - using Model[mag/asec^2]\n",
    "MU_MAX_MODEL_G = MU_MAX_MODEL_G[Total_cut]\n",
    "MU_MAX_MODEL_R = MU_MAX_MODEL_R[Total_cut]\n",
    "MU_MAX_MODEL_I = MU_MAX_MODEL_I[Total_cut]\n",
    "\n",
    "#Mean surface brightness using the whole area inside the isophote used for MU_EFF_MODEL\n",
    "MU_MEAN_G = MU_MEAN_G[Total_cut]\n",
    "MU_MEAN_R = MU_MEAN_R[Total_cut]\n",
    "MU_MEAN_I = MU_MEAN_I[Total_cut]\n",
    "\n",
    "# Ellipticity\n",
    "ellipticity = ellipticity[Total_cut]\n",
    "\n",
    "print(len(RA))"
   ]
  },
  {
   "cell_type": "markdown",
   "metadata": {},
   "source": [
    "Now let's choose the features we are going to use in the classification.\n",
    "\n",
    "I will use:\n",
    "\n",
    "- The magnitudes G, R, I\n",
    "- Colors g-r, g-i, i - r\n",
    "- Flux radii G,R,I\n",
    "- Effective surface brightness G,R,I\n",
    "- Maximum surface brightness G,R,I\n",
    "- Ellipticity \n"
   ]
  },
  {
   "cell_type": "code",
   "execution_count": 129,
   "metadata": {
    "collapsed": true
   },
   "outputs": [],
   "source": [
    "# Define the colors\n",
    "col_g_r = MAG_AUTO_G - MAG_AUTO_R\n",
    "col_g_i = MAG_AUTO_G - MAG_AUTO_I\n",
    "col_i_r = MAG_AUTO_G - MAG_AUTO_R\n",
    "\n",
    "\n",
    "\n",
    "# Define the train data matrix of features\n",
    "X_feat_train = np.zeros([len(RA),16])\n",
    "X_feat_train[:,0] = MAG_AUTO_G;X_feat_train[:,1] = MAG_AUTO_R;X_feat_train[:,2] = MAG_AUTO_I\n",
    "X_feat_train[:,3] = col_g_r;X_feat_train[:,4] = col_g_i;X_feat_train[:,5] = col_i_r\n",
    "X_feat_train[:,6] = FLUX_RADIUS_G;X_feat_train[:,7] = FLUX_RADIUS_R;X_feat_train[:,8] = FLUX_RADIUS_I\n",
    "X_feat_train[:,9] = MU_EFF_G;X_feat_train[:,10] = MU_EFF_R;X_feat_train[:,11] = MU_EFF_I\n",
    "X_feat_train[:,12] = MU_MAX_G; X_feat_train[:,13] =  MU_MAX_R;X_feat_train[:,14] =  MU_MAX_I\n",
    "X_feat_train[:,15] = ellipticity "
   ]
  },
  {
   "cell_type": "markdown",
   "metadata": {},
   "source": [
    "#### Define the target classes array now"
   ]
  },
  {
   "cell_type": "code",
   "execution_count": 130,
   "metadata": {
    "collapsed": false
   },
   "outputs": [],
   "source": [
    "y = np.zeros(len(RA))\n",
    "y[0]=1;y[2]=1;y[3]=1;y[9]=1;y[10]=1;y[12]=1\n",
    "y[27]=1;y[34]=1;y[35]=1;y[36]=1;y[37]=1;y[40]=1\n",
    "y[45]=1;y[46]=1;y[50]=1;y[55]=1;y[59]=1;y[67]=1\n",
    "y[73]=1;y[74]=1;y[77]=1;y[81]=1;y[83]=1;y[85]=1\n",
    "y[86]=1;y[87]=1;y[89]=1;y[90]=1;y[95]=1;y[96]=1\n",
    "y[97]=1;y[100]=1;y[102]=1;y[104]=1;y[105]=1;y[107]=1\n",
    "y[113]=1;y[116]=1;y[117]=1;y[121]=1;y[129]=1;y[130]=1\n",
    "y[137]=1;y[139]=1;y[142]=1;y[147]=1;y[148]=1;y[151]=1\n",
    "y[153]=1;y[154]=1;y[156]=1;y[157]=1;y[162]=1;y[167]=1\n",
    "y[170]=1;y[178]=1;y[180]=1;y[182]=1;y[184]=1;y[186]=1\n",
    "y[188]=1;y[190]=1;y[197]=1;y[199]=1;y[205]=1;y[206]=1\n",
    "y[207]=1;y[208]=1;y[214]=1;y[215]=1;y[217]=1;y[218]=1\n",
    "y[223]=1;y[228]=1;y[233]=1;y[243]=1;y[245]=1;y[256]=1\n",
    "y[271]=1;y[277]=1;y[279]=1;y[283]=1;y[285]=1;y[287]=1\n",
    "y[289]=1;y[290]=1;y[291]=1;y[292]=1;y[297]=1;y[299]=1\n",
    "y[303]=1;y[307]=1;y[309]=1;y[312]=1;y[314]=1;y[315]=1\n",
    "y[320]=1"
   ]
  },
  {
   "cell_type": "code",
   "execution_count": 131,
   "metadata": {
    "collapsed": false
   },
   "outputs": [],
   "source": [
    "# Import support vector machines\n",
    "import sklearn\n",
    "from sklearn.svm import SVC\n",
    "svc_first = SVC(C=0.5,kernel='rbf')"
   ]
  },
  {
   "cell_type": "code",
   "execution_count": 132,
   "metadata": {
    "collapsed": false
   },
   "outputs": [
    {
     "data": {
      "text/plain": [
       "SVC(C=0.5, cache_size=200, class_weight=None, coef0=0.0,\n",
       "  decision_function_shape='ovr', degree=3, gamma='auto', kernel='rbf',\n",
       "  max_iter=-1, probability=False, random_state=None, shrinking=True,\n",
       "  tol=0.001, verbose=False)"
      ]
     },
     "execution_count": 132,
     "metadata": {},
     "output_type": "execute_result"
    }
   ],
   "source": [
    "# Fit the data now\n",
    "svc_first.fit(X_feat_train, y)"
   ]
  },
  {
   "cell_type": "code",
   "execution_count": 133,
   "metadata": {
    "collapsed": false
   },
   "outputs": [
    {
     "data": {
      "text/plain": [
       "0.9190031152647975"
      ]
     },
     "execution_count": 133,
     "metadata": {},
     "output_type": "execute_result"
    }
   ],
   "source": [
    "svc_first.score(X_feat_train,y)"
   ]
  },
  {
   "cell_type": "markdown",
   "metadata": {},
   "source": [
    "Let's apply that to new cases"
   ]
  },
  {
   "cell_type": "code",
   "execution_count": 134,
   "metadata": {
    "collapsed": true
   },
   "outputs": [],
   "source": [
    "REG_4 = fits.open('Region_1.fits')"
   ]
  },
  {
   "cell_type": "code",
   "execution_count": 135,
   "metadata": {
    "collapsed": false
   },
   "outputs": [
    {
     "name": "stdout",
     "output_type": "stream",
     "text": [
      "53513\n"
     ]
    }
   ],
   "source": [
    "# Import everything \n",
    "# ========================================================\n",
    "# ========================================================\n",
    "# spread_model_i and its error\n",
    "spread_model_i = REG_4[1].data['spread_model_i']\n",
    "speraderr_model_i = REG_4[1].data['spreaderr_model_i']\n",
    "\n",
    "# RA and DEC \n",
    "RA = REG_4[1].data['ra']\n",
    "DEC = REG_4[1].data['dec']\n",
    "\n",
    "# Image A/ Image B\n",
    "IMAGE_A = REG_4[1].data['a_image']\n",
    "IMAGE_B = REG_4[1].data['b_image']\n",
    "\n",
    "# Magnitudes \n",
    "MAG_AUTO_G = REG_4[1].data['mag_auto_g']\n",
    "MAG_AUTO_R = REG_4[1].data['mag_auto_r']\n",
    "MAG_AUTO_I = REG_4[1].data['mag_auto_i']\n",
    "\n",
    "# Flux radii - convert from pixels to arcseconds\n",
    "FLUX_RADIUS_G = 0.263*REG_4[1].data['flux_radius_g']\n",
    "FLUX_RADIUS_R = 0.263*REG_4[1].data['flux_radius_r']\n",
    "FLUX_RADIUS_I = 0.263*REG_4[1].data['flux_radius_i'] \n",
    "\n",
    "# ================================================================================\n",
    "# ================================================================================\n",
    "# SURFACE BRIGHTNESSES\n",
    "\n",
    "##Effective model surface brightness (SB) above background [mag/sq. arcmin]. \n",
    "#SB at the isophote which includes half of the flux from the model, above background\n",
    "MU_EFF_G = REG_4[1].data['mu_eff_model_g']\n",
    "MU_EFF_R = REG_4[1].data['mu_eff_model_r']\n",
    "MU_EFF_I = REG_4[1].data['mu_eff_model_i']\n",
    "\n",
    "#Peak surface brightness above background [mag/asec^2]\n",
    "MU_MAX_G = REG_4[1].data['mu_max_g']\n",
    "MU_MAX_R = REG_4[1].data['mu_max_r']\n",
    "MU_MAX_I = REG_4[1].data['mu_max_i']\n",
    "\n",
    "#Peak surface brightness above background  - using Model[mag/asec^2]\n",
    "MU_MAX_MODEL_G = REG_4[1].data['mu_max_model_g']\n",
    "MU_MAX_MODEL_R = REG_4[1].data['mu_max_model_r']\n",
    "MU_MAX_MODEL_I = REG_4[1].data['mu_max_model_i']\n",
    "\n",
    "#Mean surface brightness using the whole area inside the isophote used for MU_EFF_MODEL\n",
    "MU_MEAN_G = REG_4[1].data['mu_mean_model_g']\n",
    "MU_MEAN_R = REG_4[1].data['mu_mean_model_r']\n",
    "MU_MEAN_I = REG_4[1].data['mu_mean_model_i']\n",
    "\n",
    "\n",
    "# Define ellipticity \n",
    "ellipticity = 1.0 - IMAGE_B/IMAGE_A\n",
    "\n",
    "print(len(RA))"
   ]
  },
  {
   "cell_type": "code",
   "execution_count": 136,
   "metadata": {
    "collapsed": false
   },
   "outputs": [
    {
     "name": "stdout",
     "output_type": "stream",
     "text": [
      "24\n"
     ]
    }
   ],
   "source": [
    "# Define the cuts here \n",
    "# ====================================================\n",
    "\n",
    "# Star-galaxy separation \n",
    "star_gal_cut = ((spread_model_i+(5.0/3.0)*speraderr_model_i)>0.007)\n",
    "\n",
    "# Surface brightness cut\n",
    "mu_eff_cut = (MU_EFF_G > 24.3)\n",
    "\n",
    "# Color cuts \n",
    "col_1 = ((MAG_AUTO_G - MAG_AUTO_I)>(-0.1))\n",
    "col_2 = ((MAG_AUTO_G - MAG_AUTO_I)<(1.4))\n",
    "col_3 = ((MAG_AUTO_G - MAG_AUTO_R) > 0.7*(MAG_AUTO_G - MAG_AUTO_I) - 0.4)\n",
    "col_4 = ((MAG_AUTO_G - MAG_AUTO_R) < 0.7*(MAG_AUTO_G - MAG_AUTO_I) + 0.4)\n",
    "color_cuts = col_1&col_2&col_3&col_4\n",
    "\n",
    "# Radius cut\n",
    "radius_cut = ((FLUX_RADIUS_I > 2.5)&(FLUX_RADIUS_I < 20.0))\n",
    "\n",
    "# Ellipticity cut\n",
    "ell_cut = (ellipticity < 0.6)\n",
    "\n",
    "# Summarize the final cut\n",
    "\n",
    "Total_cut = star_gal_cut&mu_eff_cut&color_cuts&radius_cut&ell_cut\n",
    "\n",
    "# RA and DEC\n",
    "RA = RA[Total_cut]\n",
    "DEC = DEC[Total_cut]\n",
    "\n",
    "# Image A/ Image B\n",
    "IMAGE_A = IMAGE_A[Total_cut]\n",
    "IMAGE_B = IMAGE_B[Total_cut]\n",
    "\n",
    "#Magnitudes \n",
    "MAG_AUTO_G = MAG_AUTO_G[Total_cut]\n",
    "MAG_AUTO_R = MAG_AUTO_R[Total_cut]\n",
    "MAG_AUTO_I = MAG_AUTO_I[Total_cut]\n",
    "\n",
    "#Flux radii \n",
    "FLUX_RADIUS_G = FLUX_RADIUS_G[Total_cut]\n",
    "FLUX_RADIUS_R = FLUX_RADIUS_R[Total_cut]\n",
    "FLUX_RADIUS_I = FLUX_RADIUS_I[Total_cut]\n",
    "\n",
    "# ================================================================================\n",
    "# ================================================================================\n",
    "# SURFACE BRIGHTNESSES\n",
    "\n",
    "##Effective model surface brightness (SB) above background [mag/sq. arcmin]. \n",
    "#SB at the isophote which includes half of the flux from the model, above background\n",
    "MU_EFF_G = MU_EFF_G[Total_cut]\n",
    "MU_EFF_R = MU_EFF_R[Total_cut]\n",
    "MU_EFF_I = MU_EFF_I[Total_cut]\n",
    "\n",
    "#Peak surface brightness above background [mag/asec^2]\n",
    "MU_MAX_G = MU_MAX_G[Total_cut]\n",
    "MU_MAX_R = MU_MAX_R[Total_cut]\n",
    "MU_MAX_I = MU_MAX_I[Total_cut]\n",
    "\n",
    "#Peak surface brightness above background  - using Model[mag/asec^2]\n",
    "MU_MAX_MODEL_G = MU_MAX_MODEL_G[Total_cut]\n",
    "MU_MAX_MODEL_R = MU_MAX_MODEL_R[Total_cut]\n",
    "MU_MAX_MODEL_I = MU_MAX_MODEL_I[Total_cut]\n",
    "\n",
    "#Mean surface brightness using the whole area inside the isophote used for MU_EFF_MODEL\n",
    "MU_MEAN_G = MU_MEAN_G[Total_cut]\n",
    "MU_MEAN_R = MU_MEAN_R[Total_cut]\n",
    "MU_MEAN_I = MU_MEAN_I[Total_cut]\n",
    "\n",
    "# Ellipticity\n",
    "ellipticity = ellipticity[Total_cut]\n",
    "\n",
    "print(len(RA))"
   ]
  },
  {
   "cell_type": "code",
   "execution_count": 137,
   "metadata": {
    "collapsed": true
   },
   "outputs": [],
   "source": [
    "# Define the colors\n",
    "col_g_r = MAG_AUTO_G - MAG_AUTO_R\n",
    "col_g_i = MAG_AUTO_G - MAG_AUTO_I\n",
    "col_i_r = MAG_AUTO_G - MAG_AUTO_R\n",
    "\n",
    "\n",
    "\n",
    "# Define the train data matrix of features\n",
    "X_feat_test = np.zeros([len(RA),16])\n",
    "X_feat_test[:,0] = MAG_AUTO_G;X_feat_test[:,1] = MAG_AUTO_R;X_feat_test[:,2] = MAG_AUTO_I\n",
    "X_feat_test[:,3] = col_g_r;X_feat_test[:,4] = col_g_i;X_feat_test[:,5] = col_i_r\n",
    "X_feat_test[:,6] = FLUX_RADIUS_G;X_feat_test[:,7] = FLUX_RADIUS_R;X_feat_test[:,8] = FLUX_RADIUS_I\n",
    "X_feat_test[:,9] = MU_EFF_G;X_feat_test[:,10] = MU_EFF_R;X_feat_test[:,11] = MU_EFF_I\n",
    "X_feat_test[:,12] = MU_MAX_G; X_feat_test[:,13] =  MU_MAX_R;X_feat_test[:,14] =  MU_MAX_I\n",
    "X_feat_test[:,15] = ellipticity "
   ]
  },
  {
   "cell_type": "code",
   "execution_count": 138,
   "metadata": {
    "collapsed": true
   },
   "outputs": [],
   "source": [
    "# Let's predict now\n",
    "\n",
    "y_pred = svc_first.predict(X_feat_test)"
   ]
  },
  {
   "cell_type": "code",
   "execution_count": 139,
   "metadata": {
    "collapsed": false,
    "scrolled": false
   },
   "outputs": [
    {
     "name": "stdout",
     "output_type": "stream",
     "text": [
      "1.0 , 43.277539 , -42.638234\n",
      "0.0 , 44.043769 , -42.699666\n",
      "0.0 , 44.170142 , -42.774577\n",
      "0.0 , 43.962621 , -43.264281\n",
      "0.0 , 44.165595 , -42.789356\n",
      "0.0 , 43.53207 , -42.938268\n",
      "0.0 , 43.532987 , -42.939046\n",
      "0.0 , 43.30042 , -42.324723\n",
      "0.0 , 43.991357 , -42.782793\n",
      "0.0 , 43.922765 , -42.811271\n",
      "0.0 , 43.990666 , -42.783398\n",
      "0.0 , 44.103335 , -43.290718\n",
      "0.0 , 44.062772 , -42.729035\n",
      "0.0 , 43.994055 , -42.790393\n",
      "1.0 , 43.277222 , -42.451647\n",
      "1.0 , 43.40656 , -43.146752\n",
      "1.0 , 43.458562 , -42.399784\n",
      "0.0 , 43.555758 , -42.679232\n",
      "1.0 , 43.213421 , -42.376037\n",
      "1.0 , 43.976675 , -42.331759\n",
      "0.0 , 43.805092 , -42.688145\n",
      "1.0 , 43.682633 , -42.998054\n",
      "0.0 , 43.747915 , -42.621132\n",
      "0.0 , 43.828257 , -42.622704\n"
     ]
    }
   ],
   "source": [
    "for i in range(len(RA)):\n",
    "    print y_pred[i], ',', RA[i],',',DEC[i]"
   ]
  },
  {
   "cell_type": "code",
   "execution_count": null,
   "metadata": {
    "collapsed": true
   },
   "outputs": [],
   "source": []
  },
  {
   "cell_type": "code",
   "execution_count": null,
   "metadata": {
    "collapsed": true
   },
   "outputs": [],
   "source": []
  },
  {
   "cell_type": "code",
   "execution_count": null,
   "metadata": {
    "collapsed": true
   },
   "outputs": [],
   "source": []
  }
 ],
 "metadata": {
  "kernelspec": {
   "display_name": "Python 2",
   "language": "python",
   "name": "python2"
  },
  "language_info": {
   "codemirror_mode": {
    "name": "ipython",
    "version": 2
   },
   "file_extension": ".py",
   "mimetype": "text/x-python",
   "name": "python",
   "nbconvert_exporter": "python",
   "pygments_lexer": "ipython2",
   "version": "2.7.13"
  }
 },
 "nbformat": 4,
 "nbformat_minor": 2
}
