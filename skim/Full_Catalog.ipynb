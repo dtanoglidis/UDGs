{
 "cells": [
  {
   "cell_type": "code",
   "execution_count": 1,
   "metadata": {
    "collapsed": false
   },
   "outputs": [
    {
     "name": "stdout",
     "output_type": "stream",
     "text": [
      "Populating the interactive namespace from numpy and matplotlib\n"
     ]
    }
   ],
   "source": [
    "# Import stuff\n",
    "import numpy as np\n",
    "import scipy\n",
    "import matplotlib\n",
    "import matplotlib.pyplot as plt\n",
    "from astropy.io import fits\n",
    "#from code.plot_utils import plot_pretty\n",
    "from astropy import units as u\n",
    "from astropy.coordinates import SkyCoord\n",
    "from matplotlib import rcParams\n",
    "rcParams['font.family'] = 'serif'\n",
    "\n",
    "%matplotlib inline\n",
    "%pylab inline \n",
    "#plot_pretty() "
   ]
  },
  {
   "cell_type": "code",
   "execution_count": 13,
   "metadata": {
    "collapsed": false
   },
   "outputs": [
    {
     "name": "stdout",
     "output_type": "stream",
     "text": [
      "<bound method Header.keys of XTENSION= 'BINTABLE'           / binary table extension                         \n",
      "BITPIX  =                    8 / 8-bit bytes                                    \n",
      "NAXIS   =                    2 / 2-dimensional binary table                     \n",
      "NAXIS1  =                  144 / width of table in bytes                        \n",
      "NAXIS2  =                    1 / number of rows in table                        \n",
      "PCOUNT  =                    0 / size of special data area                      \n",
      "GCOUNT  =                    1 / one data group (required keyword)              \n",
      "TFIELDS =                   32 / number of fields in each row                   \n",
      "TTYPE1  = 'COADD_OBJECT_ID'    / label for field   1                            \n",
      "TFORM1  = 'K       '           / data format of field: 8-byte INTEGER           \n",
      "TTYPE2  = 'RA      '           / label for field   2                            \n",
      "TFORM2  = 'D       '           / data format of field: 8-byte DOUBLE            \n",
      "TTYPE3  = 'DEC     '           / label for field   3                            \n",
      "TFORM3  = 'D       '           / data format of field: 8-byte DOUBLE            \n",
      "TTYPE4  = 'A_IMAGE '           / label for field   4                            \n",
      "TFORM4  = 'E       '           / data format of field: 4-byte REAL              \n",
      "TTYPE5  = 'B_IMAGE '           / label for field   5                            \n",
      "TFORM5  = 'E       '           / data format of field: 4-byte REAL              \n",
      "TTYPE6  = 'MAG_AUTO_G'         / label for field   6                            \n",
      "TFORM6  = 'E       '           / data format of field: 4-byte REAL              \n",
      "TTYPE7  = 'FLUX_RADIUS_G'      / label for field   7                            \n",
      "TFORM7  = 'E       '           / data format of field: 4-byte REAL              \n",
      "TTYPE8  = 'MU_EFF_MODEL_G'     / label for field   8                            \n",
      "TFORM8  = 'E       '           / data format of field: 4-byte REAL              \n",
      "TTYPE9  = 'MU_MAX_G'           / label for field   9                            \n",
      "TFORM9  = 'E       '           / data format of field: 4-byte REAL              \n",
      "TTYPE10 = 'MU_MAX_MODEL_G'     / label for field  10                            \n",
      "TFORM10 = 'E       '           / data format of field: 4-byte REAL              \n",
      "TTYPE11 = 'MU_MEAN_MODEL_G'    / label for field  11                            \n",
      "TFORM11 = 'E       '           / data format of field: 4-byte REAL              \n",
      "TTYPE12 = 'MAG_AUTO_R'         / label for field  12                            \n",
      "TFORM12 = 'E       '           / data format of field: 4-byte REAL              \n",
      "TTYPE13 = 'FLUX_RADIUS_R'      / label for field  13                            \n",
      "TFORM13 = 'E       '           / data format of field: 4-byte REAL              \n",
      "TTYPE14 = 'MU_EFF_MODEL_R'     / label for field  14                            \n",
      "TFORM14 = 'E       '           / data format of field: 4-byte REAL              \n",
      "TTYPE15 = 'MU_MAX_R'           / label for field  15                            \n",
      "TFORM15 = 'E       '           / data format of field: 4-byte REAL              \n",
      "TTYPE16 = 'MU_MAX_MODEL_R'     / label for field  16                            \n",
      "TFORM16 = 'E       '           / data format of field: 4-byte REAL              \n",
      "TTYPE17 = 'MU_MEAN_MODEL_R'    / label for field  17                            \n",
      "TFORM17 = 'E       '           / data format of field: 4-byte REAL              \n",
      "TTYPE18 = 'MAG_AUTO_I'         / label for field  18                            \n",
      "TFORM18 = 'E       '           / data format of field: 4-byte REAL              \n",
      "TTYPE19 = 'FLUX_RADIUS_I'      / label for field  19                            \n",
      "TFORM19 = 'E       '           / data format of field: 4-byte REAL              \n",
      "TTYPE20 = 'MU_EFF_MODEL_I'     / label for field  20                            \n",
      "TFORM20 = 'E       '           / data format of field: 4-byte REAL              \n",
      "TTYPE21 = 'MU_MAX_I'           / label for field  21                            \n",
      "TFORM21 = 'E       '           / data format of field: 4-byte REAL              \n",
      "TTYPE22 = 'MU_MAX_MODEL_I'     / label for field  22                            \n",
      "TFORM22 = 'E       '           / data format of field: 4-byte REAL              \n",
      "TTYPE23 = 'MU_MEAN_MODEL_I'    / label for field  23                            \n",
      "TFORM23 = 'E       '           / data format of field: 4-byte REAL              \n",
      "TTYPE24 = 'SPREADERR_MODEL_I'  / label for field  24                            \n",
      "TFORM24 = 'E       '           / data format of field: 4-byte REAL              \n",
      "TTYPE25 = 'SPREAD_MODEL_I'     / label for field  25                            \n",
      "TFORM25 = 'E       '           / data format of field: 4-byte REAL              \n",
      "TTYPE26 = 'FLAGS_GOLD'         / label for field  26                            \n",
      "TFORM26 = 'J       '           / data format of field: 4-byte INTEGER           \n",
      "TTYPE27 = 'EXTENDED_CLASS_COADD' / label for field  27                          \n",
      "TFORM27 = 'I       '           / data format of field: 2-byte INTEGER           \n",
      "TTYPE28 = 'EXTENDED_CLASS_MOF' / label for field  28                            \n",
      "TFORM28 = 'I       '           / data format of field: 2-byte INTEGER           \n",
      "TTYPE29 = 'BPZ_ZMEAN_MOF'      / label for field  29                            \n",
      "TFORM29 = 'D       '           / data format of field: 8-byte DOUBLE            \n",
      "TTYPE30 = 'BPZ_ZMC_MOF'        / label for field  30                            \n",
      "TFORM30 = 'D       '           / data format of field: 8-byte DOUBLE            \n",
      "TTYPE31 = 'DNF_ZMC_MOF'        / label for field  31                            \n",
      "TFORM31 = 'E       '           / data format of field: 4-byte REAL              \n",
      "TTYPE32 = 'DNF_ZMEAN_MOF'      / label for field  32                            \n",
      "TFORM32 = 'E       '           / data format of field: 4-byte REAL              >\n"
     ]
    }
   ],
   "source": [
    "REG = fits.open('y3_gold_2_2_11819.fits')\n",
    "print REG[1].header.keys"
   ]
  },
  {
   "cell_type": "code",
   "execution_count": 14,
   "metadata": {
    "collapsed": false
   },
   "outputs": [
    {
     "name": "stdout",
     "output_type": "stream",
     "text": [
      "1\n"
     ]
    }
   ],
   "source": [
    "# RA and DEC \n",
    "RA = REG[1].data['ra']\n",
    "DEC = REG[1].data['dec']\n",
    "\n",
    "print(len(RA))"
   ]
  },
  {
   "cell_type": "code",
   "execution_count": null,
   "metadata": {
    "collapsed": true
   },
   "outputs": [],
   "source": []
  },
  {
   "cell_type": "code",
   "execution_count": null,
   "metadata": {
    "collapsed": true
   },
   "outputs": [],
   "source": []
  },
  {
   "cell_type": "code",
   "execution_count": null,
   "metadata": {
    "collapsed": true
   },
   "outputs": [],
   "source": []
  }
 ],
 "metadata": {
  "kernelspec": {
   "display_name": "Python 2",
   "language": "python",
   "name": "python2"
  },
  "language_info": {
   "codemirror_mode": {
    "name": "ipython",
    "version": 2
   },
   "file_extension": ".py",
   "mimetype": "text/x-python",
   "name": "python",
   "nbconvert_exporter": "python",
   "pygments_lexer": "ipython2",
   "version": "2.7.13"
  }
 },
 "nbformat": 4,
 "nbformat_minor": 2
}
