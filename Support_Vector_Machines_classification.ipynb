{
 "cells": [
  {
   "cell_type": "markdown",
   "metadata": {},
   "source": [
    "## Classification"
   ]
  },
  {
   "cell_type": "code",
   "execution_count": 1,
   "metadata": {
    "collapsed": false
   },
   "outputs": [
    {
     "name": "stdout",
     "output_type": "stream",
     "text": [
      "Populating the interactive namespace from numpy and matplotlib\n"
     ]
    }
   ],
   "source": [
    "# Import stuff\n",
    "import numpy as np\n",
    "import scipy\n",
    "import matplotlib\n",
    "import matplotlib.pyplot as plt\n",
    "from astropy.io import fits\n",
    "import skymapper as skm\n",
    "from code.plot_utils import plot_pretty\n",
    "from astropy import units as u\n",
    "from astropy.coordinates import SkyCoord\n",
    "from matplotlib import rcParams\n",
    "rcParams['font.family'] = 'serif'\n",
    "\n",
    "%matplotlib inline\n",
    "%pylab inline \n",
    "plot_pretty() "
   ]
  },
  {
   "cell_type": "code",
   "execution_count": 18,
   "metadata": {
    "collapsed": false
   },
   "outputs": [],
   "source": [
    "from Train_set import supervised"
   ]
  },
  {
   "cell_type": "code",
   "execution_count": 19,
   "metadata": {
    "collapsed": true
   },
   "outputs": [],
   "source": [
    "y_train, X_train = supervised()"
   ]
  },
  {
   "cell_type": "code",
   "execution_count": 20,
   "metadata": {
    "collapsed": false
   },
   "outputs": [],
   "source": [
    "# Import support vector machines\n",
    "import sklearn\n",
    "from sklearn.svm import SVC\n",
    "svc_first = SVC(C=10,kernel='rbf')"
   ]
  },
  {
   "cell_type": "code",
   "execution_count": 21,
   "metadata": {
    "collapsed": false
   },
   "outputs": [
    {
     "data": {
      "text/plain": [
       "SVC(C=10, cache_size=200, class_weight=None, coef0=0.0,\n",
       "  decision_function_shape='ovr', degree=3, gamma='auto', kernel='rbf',\n",
       "  max_iter=-1, probability=False, random_state=None, shrinking=True,\n",
       "  tol=0.001, verbose=False)"
      ]
     },
     "execution_count": 21,
     "metadata": {},
     "output_type": "execute_result"
    }
   ],
   "source": [
    "# Fit the data now\n",
    "svc_first.fit(X_train, y_train)"
   ]
  },
  {
   "cell_type": "code",
   "execution_count": 22,
   "metadata": {
    "collapsed": false
   },
   "outputs": [
    {
     "data": {
      "text/plain": [
       "0.9411764705882353"
      ]
     },
     "execution_count": 22,
     "metadata": {},
     "output_type": "execute_result"
    }
   ],
   "source": [
    "svc_first.score(X_train,y_train)"
   ]
  },
  {
   "cell_type": "code",
   "execution_count": 23,
   "metadata": {
    "collapsed": true
   },
   "outputs": [],
   "source": [
    "REG_big = fits.open('Big_region.fits')"
   ]
  },
  {
   "cell_type": "code",
   "execution_count": 24,
   "metadata": {
    "collapsed": false
   },
   "outputs": [
    {
     "name": "stdout",
     "output_type": "stream",
     "text": [
      "6175361\n"
     ]
    }
   ],
   "source": [
    "# Import everything \n",
    "# ========================================================\n",
    "# ========================================================\n",
    "# spread_model_i and its error\n",
    "spread_model_i = REG_big[1].data['spread_model_i']\n",
    "speraderr_model_i = REG_big[1].data['spreaderr_model_i']\n",
    "\n",
    "# RA and DEC \n",
    "RA = REG_big[1].data['ra']\n",
    "DEC = REG_big[1].data['dec']\n",
    "\n",
    "# Image A/ Image B\n",
    "IMAGE_A = REG_big[1].data['a_image']\n",
    "IMAGE_B = REG_big[1].data['b_image']\n",
    "\n",
    "# Magnitudes \n",
    "MAG_AUTO_G = REG_big[1].data['mag_auto_g']\n",
    "MAG_AUTO_R = REG_big[1].data['mag_auto_r']\n",
    "MAG_AUTO_I = REG_big[1].data['mag_auto_i']\n",
    "\n",
    "# Flux radii - convert from pixels to arcseconds\n",
    "FLUX_RADIUS_G = 0.263*REG_big[1].data['flux_radius_g']\n",
    "FLUX_RADIUS_R = 0.263*REG_big[1].data['flux_radius_r']\n",
    "FLUX_RADIUS_I = 0.263*REG_big[1].data['flux_radius_i'] \n",
    "\n",
    "# ================================================================================\n",
    "# ================================================================================\n",
    "# SURFACE BRIGHTNESSES\n",
    "\n",
    "##Effective model surface brightness (SB) above background [mag/sq. arcmin]. \n",
    "#SB at the isophote which includes half of the flux from the model, above background\n",
    "MU_EFF_G = REG_big[1].data['mu_eff_model_g']\n",
    "MU_EFF_R = REG_big[1].data['mu_eff_model_r']\n",
    "MU_EFF_I = REG_big[1].data['mu_eff_model_i']\n",
    "\n",
    "#Peak surface brightness above background [mag/asec^2]\n",
    "MU_MAX_G = REG_big[1].data['mu_max_g']\n",
    "MU_MAX_R = REG_big[1].data['mu_max_r']\n",
    "MU_MAX_I = REG_big[1].data['mu_max_i']\n",
    "\n",
    "#Peak surface brightness above background  - using Model[mag/asec^2]\n",
    "MU_MAX_MODEL_G = REG_big[1].data['mu_max_model_g']\n",
    "MU_MAX_MODEL_R = REG_big[1].data['mu_max_model_r']\n",
    "MU_MAX_MODEL_I = REG_big[1].data['mu_max_model_i']\n",
    "\n",
    "#Mean surface brightness using the whole area inside the isophote used for MU_EFF_MODEL\n",
    "MU_MEAN_G = REG_big[1].data['mu_mean_model_g']\n",
    "MU_MEAN_R = REG_big[1].data['mu_mean_model_r']\n",
    "MU_MEAN_I = REG_big[1].data['mu_mean_model_i']\n",
    "\n",
    "\n",
    "# Define ellipticity \n",
    "ellipticity = 1.0 - IMAGE_B/IMAGE_A\n",
    "\n",
    "print(len(RA))"
   ]
  },
  {
   "cell_type": "code",
   "execution_count": 25,
   "metadata": {
    "collapsed": false
   },
   "outputs": [
    {
     "name": "stdout",
     "output_type": "stream",
     "text": [
      "3597\n"
     ]
    }
   ],
   "source": [
    "# Define the cuts here \n",
    "# ====================================================\n",
    "\n",
    "# Star-galaxy separation \n",
    "star_gal_cut = ((spread_model_i+(5.0/3.0)*speraderr_model_i)>0.007)\n",
    "\n",
    "# Surface brightness cut\n",
    "mu_eff_cut = (MU_EFF_G > 24.3)\n",
    "\n",
    "# Color cuts \n",
    "col_1 = ((MAG_AUTO_G - MAG_AUTO_I)>(-0.1))\n",
    "col_2 = ((MAG_AUTO_G - MAG_AUTO_I)<(1.4))\n",
    "col_3 = ((MAG_AUTO_G - MAG_AUTO_R) > 0.7*(MAG_AUTO_G - MAG_AUTO_I) - 0.4)\n",
    "col_4 = ((MAG_AUTO_G - MAG_AUTO_R) < 0.7*(MAG_AUTO_G - MAG_AUTO_I) + 0.4)\n",
    "color_cuts = col_1&col_2&col_3&col_4\n",
    "\n",
    "# Radius cut\n",
    "radius_cut = ((FLUX_RADIUS_I > 2.5)&(FLUX_RADIUS_I < 20.0))\n",
    "\n",
    "# Ellipticity cut\n",
    "ell_cut = (ellipticity < 0.6)\n",
    "\n",
    "# Summarize the final cut\n",
    "\n",
    "Total_cut = star_gal_cut&mu_eff_cut&color_cuts&radius_cut&ell_cut\n",
    "\n",
    "# RA and DEC\n",
    "RA = RA[Total_cut]\n",
    "DEC = DEC[Total_cut]\n",
    "\n",
    "# Image A/ Image B\n",
    "IMAGE_A = IMAGE_A[Total_cut]\n",
    "IMAGE_B = IMAGE_B[Total_cut]\n",
    "\n",
    "#Magnitudes \n",
    "MAG_AUTO_G = MAG_AUTO_G[Total_cut]\n",
    "MAG_AUTO_R = MAG_AUTO_R[Total_cut]\n",
    "MAG_AUTO_I = MAG_AUTO_I[Total_cut]\n",
    "\n",
    "#Flux radii \n",
    "FLUX_RADIUS_G = FLUX_RADIUS_G[Total_cut]\n",
    "FLUX_RADIUS_R = FLUX_RADIUS_R[Total_cut]\n",
    "FLUX_RADIUS_I = FLUX_RADIUS_I[Total_cut]\n",
    "\n",
    "# ================================================================================\n",
    "# ================================================================================\n",
    "# SURFACE BRIGHTNESSES\n",
    "\n",
    "##Effective model surface brightness (SB) above background [mag/sq. arcmin]. \n",
    "#SB at the isophote which includes half of the flux from the model, above background\n",
    "MU_EFF_G = MU_EFF_G[Total_cut]\n",
    "MU_EFF_R = MU_EFF_R[Total_cut]\n",
    "MU_EFF_I = MU_EFF_I[Total_cut]\n",
    "\n",
    "#Peak surface brightness above background [mag/asec^2]\n",
    "MU_MAX_G = MU_MAX_G[Total_cut]\n",
    "MU_MAX_R = MU_MAX_R[Total_cut]\n",
    "MU_MAX_I = MU_MAX_I[Total_cut]\n",
    "\n",
    "#Peak surface brightness above background  - using Model[mag/asec^2]\n",
    "MU_MAX_MODEL_G = MU_MAX_MODEL_G[Total_cut]\n",
    "MU_MAX_MODEL_R = MU_MAX_MODEL_R[Total_cut]\n",
    "MU_MAX_MODEL_I = MU_MAX_MODEL_I[Total_cut]\n",
    "\n",
    "#Mean surface brightness using the whole area inside the isophote used for MU_EFF_MODEL\n",
    "MU_MEAN_G = MU_MEAN_G[Total_cut]\n",
    "MU_MEAN_R = MU_MEAN_R[Total_cut]\n",
    "MU_MEAN_I = MU_MEAN_I[Total_cut]\n",
    "\n",
    "# Ellipticity\n",
    "ellipticity = ellipticity[Total_cut]\n",
    "\n",
    "print(len(RA))"
   ]
  },
  {
   "cell_type": "code",
   "execution_count": 26,
   "metadata": {
    "collapsed": true
   },
   "outputs": [],
   "source": [
    "# Define the colors\n",
    "col_g_r = MAG_AUTO_G - MAG_AUTO_R\n",
    "col_g_i = MAG_AUTO_G - MAG_AUTO_I\n",
    "col_i_r = MAG_AUTO_G - MAG_AUTO_R\n",
    "\n",
    "\n",
    "\n",
    "# Define the train data matrix of features\n",
    "X_feat_test = np.zeros([len(RA),16])\n",
    "X_feat_test[:,0] = MAG_AUTO_G;X_feat_test[:,1] = MAG_AUTO_R;X_feat_test[:,2] = MAG_AUTO_I\n",
    "X_feat_test[:,3] = col_g_r;X_feat_test[:,4] = col_g_i;X_feat_test[:,5] = col_i_r\n",
    "X_feat_test[:,6] = FLUX_RADIUS_G;X_feat_test[:,7] = FLUX_RADIUS_R;X_feat_test[:,8] = FLUX_RADIUS_I\n",
    "X_feat_test[:,9] = MU_EFF_G;X_feat_test[:,10] = MU_EFF_R;X_feat_test[:,11] = MU_EFF_I\n",
    "X_feat_test[:,12] = MU_MAX_G; X_feat_test[:,13] =  MU_MAX_R;X_feat_test[:,14] =  MU_MAX_I\n",
    "X_feat_test[:,15] = ellipticity "
   ]
  },
  {
   "cell_type": "code",
   "execution_count": 27,
   "metadata": {
    "collapsed": true
   },
   "outputs": [],
   "source": [
    "# Let's predict now\n",
    "y_pred = svc_first.predict(X_feat_test)"
   ]
  },
  {
   "cell_type": "code",
   "execution_count": 28,
   "metadata": {
    "collapsed": false
   },
   "outputs": [
    {
     "name": "stdout",
     "output_type": "stream",
     "text": [
      "770\n"
     ]
    }
   ],
   "source": [
    "RA_pos = RA[(y_pred==1)]\n",
    "DEC_pos = DEC[(y_pred==1)]\n",
    "print(len(RA_pos))"
   ]
  },
  {
   "cell_type": "code",
   "execution_count": 29,
   "metadata": {
    "collapsed": false
   },
   "outputs": [
    {
     "name": "stdout",
     "output_type": "stream",
     "text": [
      "52.425021 , -32.678759\n",
      "48.807117 , -33.398849\n",
      "49.529478 , -30.530061\n",
      "54.086329 , -29.86515\n",
      "51.166767 , -33.21693\n",
      "50.005169 , -33.81327\n",
      "46.230174 , -31.06137\n",
      "54.174329 , -34.71152\n",
      "53.787343 , -31.059562\n",
      "54.433597 , -32.431069\n",
      "51.177303 , -25.497937\n",
      "49.909634 , -26.408788\n",
      "50.519609 , -30.380623\n",
      "53.772832 , -33.428679\n",
      "47.068365 , -26.701172\n",
      "50.904153 , -28.393043\n",
      "52.919467 , -32.841758\n",
      "45.899512 , -26.405208\n",
      "52.089586 , -33.825619\n",
      "51.561213 , -25.985841\n",
      "52.930947 , -28.753485\n",
      "54.891178 , -25.609931\n",
      "53.706881 , -28.143295\n",
      "52.901214 , -32.846805\n",
      "54.234678 , -25.864424\n",
      "49.62028 , -25.492342\n",
      "46.365126 , -27.753551\n",
      "50.54091 , -28.251239\n",
      "45.268216 , -25.350444\n",
      "54.547306 , -33.451631\n",
      "54.670864 , -27.50381\n",
      "45.147381 , -25.263726\n",
      "49.236144 , -30.404226\n",
      "50.4859 , -29.164723\n",
      "48.848912 , -34.267114\n",
      "53.940358 , -30.072847\n",
      "49.284952 , -32.568635\n",
      "52.550191 , -26.640661\n",
      "53.284111 , -30.265042\n",
      "52.240735 , -27.330333\n",
      "50.064494 , -33.355197\n",
      "54.044822 , -25.359792\n",
      "47.882061 , -29.151977\n",
      "53.642431 , -26.05558\n",
      "53.269644 , -25.075834\n",
      "51.7862 , -34.66886\n",
      "52.651292 , -34.83945\n",
      "52.831686 , -31.295956\n",
      "49.967544 , -29.254287\n",
      "46.915377 , -34.102837\n",
      "47.459807 , -33.427406\n",
      "52.445824 , -26.872019\n",
      "51.911325 , -27.828354\n",
      "53.44308 , -26.064054\n",
      "52.670106 , -28.047037\n",
      "48.743773 , -31.777989\n",
      "50.632945 , -28.552429\n",
      "45.356302 , -25.63708\n",
      "52.888891 , -31.427291\n",
      "54.262526 , -30.631137\n",
      "52.395584 , -33.140881\n",
      "54.747032 , -26.410081\n",
      "54.281429 , -25.786534\n",
      "48.331877 , -31.911905\n",
      "47.875216 , -25.299845\n",
      "47.214015 , -28.176555\n",
      "47.411339 , -31.27255\n",
      "54.504219 , -26.345247\n",
      "48.243468 , -29.96443\n",
      "54.202762 , -34.280153\n",
      "52.699588 , -31.091328\n",
      "47.518974 , -34.48951\n",
      "48.602901 , -31.421483\n",
      "50.708637 , -31.144345\n",
      "49.375505 , -29.596626\n",
      "52.073198 , -26.07793\n",
      "54.14022 , -28.067035\n",
      "53.541918 , -25.329358\n",
      "51.256401 , -27.063155\n",
      "51.956275 , -34.419974\n",
      "49.284237 , -32.568629\n",
      "54.630797 , -31.540584\n",
      "54.786345 , -31.540648\n",
      "50.116407 , -29.122639\n",
      "48.857657 , -32.478373\n",
      "54.404401 , -33.23633\n",
      "47.078581 , -30.189294\n",
      "51.137909 , -30.182961\n",
      "48.351468 , -34.589127\n",
      "47.367331 , -26.832904\n",
      "47.957847 , -28.175612\n",
      "46.368686 , -32.558936\n",
      "45.849949 , -29.080192\n",
      "53.491969 , -28.479141\n",
      "52.359484 , -26.079798\n",
      "51.241669 , -33.230476\n",
      "50.591844 , -29.684585\n",
      "46.729441 , -26.510629\n",
      "47.239743 , -26.911608\n",
      "47.815404 , -26.649976\n"
     ]
    }
   ],
   "source": [
    "for i in range(100):\n",
    "    print RA_pos[i],',',DEC_pos[i]"
   ]
  },
  {
   "cell_type": "code",
   "execution_count": 31,
   "metadata": {
    "collapsed": false
   },
   "outputs": [
    {
     "name": "stdout",
     "output_type": "stream",
     "text": [
      "52.44778 , -26.870487\n",
      "51.710554 , -32.678441\n",
      "52.984471 , -32.216278\n",
      "52.997589 , -28.328223\n",
      "54.104047 , -25.716723\n",
      "54.796883 , -31.62187\n",
      "53.790327 , -27.537512\n",
      "46.924205 , -34.187232\n",
      "49.798171 , -32.917115\n",
      "51.035971 , -33.825956\n",
      "48.119571 , -33.561758\n",
      "53.503605 , -27.838927\n",
      "48.084278 , -32.836755\n",
      "50.231698 , -26.67636\n",
      "49.520323 , -25.82671\n",
      "53.982302 , -34.828106\n",
      "51.889764 , -26.880548\n",
      "49.594851 , -28.538172\n",
      "49.583188 , -27.088963\n",
      "53.891581 , -34.804701\n",
      "50.343169 , -29.535693\n",
      "45.208773 , -32.53334\n",
      "52.18862 , -25.329288\n",
      "48.472394 , -34.817468\n",
      "54.242841 , -26.20935\n",
      "54.984666 , -30.496014\n",
      "51.604441 , -26.461812\n",
      "54.808989 , -33.531752\n",
      "51.95912 , -30.787147\n",
      "50.309479 , -26.099116\n",
      "53.152317 , -34.105827\n",
      "54.284031 , -34.73123\n",
      "52.312031 , -34.921756\n",
      "48.781857 , -25.920196\n",
      "46.083325 , -25.927691\n",
      "49.123596 , -26.623263\n",
      "45.373509 , -28.656276\n",
      "53.540657 , -34.030562\n",
      "52.200198 , -31.123057\n",
      "54.614685 , -25.096354\n",
      "52.698783 , -34.426373\n",
      "54.275727 , -34.98302\n",
      "53.272029 , -29.730345\n",
      "50.302568 , -30.390484\n",
      "50.055708 , -29.064237\n",
      "54.075009 , -25.648252\n",
      "49.121563 , -26.048576\n",
      "48.833354 , -30.03751\n",
      "47.016257 , -34.190892\n",
      "50.806221 , -29.166358\n",
      "53.683329 , -28.21195\n",
      "54.335795 , -34.899227\n",
      "48.520147 , -31.800171\n",
      "50.84008 , -29.578395\n",
      "51.555294 , -29.638872\n",
      "47.578544 , -27.170432\n",
      "51.258717 , -33.319617\n",
      "48.075896 , -26.219702\n",
      "52.174652 , -31.665316\n",
      "50.685367 , -30.462774\n",
      "48.022462 , -26.047552\n",
      "52.331074 , -27.918066\n",
      "47.872364 , -31.381995\n",
      "51.337705 , -33.325137\n",
      "47.041612 , -28.107778\n",
      "52.447539 , -27.26249\n",
      "47.602405 , -25.86292\n",
      "53.557672 , -29.809935\n",
      "53.918159 , -25.293162\n",
      "48.589251 , -25.99281\n",
      "47.566865 , -27.171565\n",
      "51.860625 , -26.323792\n",
      "52.990487 , -34.261102\n",
      "46.962681 , -25.788508\n",
      "51.802421 , -31.509454\n",
      "54.777027 , -34.263726\n",
      "47.355436 , -26.763595\n",
      "51.39455 , -33.411441\n",
      "50.941281 , -28.905161\n",
      "50.70701 , -31.438706\n",
      "49.179635 , -31.069743\n",
      "52.117569 , -33.734566\n",
      "54.985506 , -32.296068\n",
      "47.252659 , -29.092887\n",
      "46.532169 , -31.527347\n",
      "48.204803 , -27.802947\n",
      "54.507788 , -27.257906\n",
      "53.126456 , -34.348466\n",
      "51.528923 , -31.188426\n",
      "53.378146 , -31.442688\n",
      "51.443228 , -27.979209\n",
      "53.532658 , -27.609197\n",
      "50.536081 , -27.586569\n",
      "50.197472 , -33.08078\n",
      "49.958963 , -32.100733\n",
      "54.746946 , -26.425111\n",
      "51.617374 , -25.838913\n",
      "52.823429 , -27.875099\n",
      "45.124961 , -33.734813\n",
      "50.125928 , -32.181126\n"
     ]
    }
   ],
   "source": [
    "for i in range(100,200):\n",
    "    print RA_pos[i],',',DEC_pos[i]"
   ]
  },
  {
   "cell_type": "code",
   "execution_count": null,
   "metadata": {
    "collapsed": true
   },
   "outputs": [],
   "source": []
  },
  {
   "cell_type": "code",
   "execution_count": null,
   "metadata": {
    "collapsed": true
   },
   "outputs": [],
   "source": []
  },
  {
   "cell_type": "code",
   "execution_count": null,
   "metadata": {
    "collapsed": true
   },
   "outputs": [],
   "source": []
  },
  {
   "cell_type": "code",
   "execution_count": null,
   "metadata": {
    "collapsed": true
   },
   "outputs": [],
   "source": []
  },
  {
   "cell_type": "code",
   "execution_count": null,
   "metadata": {
    "collapsed": true
   },
   "outputs": [],
   "source": []
  },
  {
   "cell_type": "code",
   "execution_count": null,
   "metadata": {
    "collapsed": true
   },
   "outputs": [],
   "source": []
  },
  {
   "cell_type": "code",
   "execution_count": null,
   "metadata": {
    "collapsed": true
   },
   "outputs": [],
   "source": []
  },
  {
   "cell_type": "code",
   "execution_count": null,
   "metadata": {
    "collapsed": true
   },
   "outputs": [],
   "source": []
  },
  {
   "cell_type": "code",
   "execution_count": null,
   "metadata": {
    "collapsed": true
   },
   "outputs": [],
   "source": []
  },
  {
   "cell_type": "code",
   "execution_count": null,
   "metadata": {
    "collapsed": true
   },
   "outputs": [],
   "source": []
  }
 ],
 "metadata": {
  "kernelspec": {
   "display_name": "Python 2",
   "language": "python",
   "name": "python2"
  },
  "language_info": {
   "codemirror_mode": {
    "name": "ipython",
    "version": 2
   },
   "file_extension": ".py",
   "mimetype": "text/x-python",
   "name": "python",
   "nbconvert_exporter": "python",
   "pygments_lexer": "ipython2",
   "version": "2.7.13"
  }
 },
 "nbformat": 4,
 "nbformat_minor": 2
}
